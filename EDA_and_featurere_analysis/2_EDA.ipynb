{
 "cells": [
  {
   "cell_type": "markdown",
   "metadata": {},
   "source": [
    "### Loading Libraries"
   ]
  },
  {
   "cell_type": "code",
   "execution_count": 18,
   "metadata": {},
   "outputs": [],
   "source": [
    "import pandas as pd\n",
    "import matplotlib.pyplot as plt\n",
    "import seaborn as sns\n",
    "import numpy as np"
   ]
  },
  {
   "cell_type": "markdown",
   "metadata": {},
   "source": [
    "# EDA and Preprocessing\n",
    "\n",
    "The purpose of this notebook is to explore the invoice dataset. Several cleaning methods are explored that are later summarized in the *preporocessing()* function in the utils.py file."
   ]
  },
  {
   "cell_type": "code",
   "execution_count": 19,
   "metadata": {},
   "outputs": [],
   "source": [
    "df = pd.read_csv('data/invoices_basic.csv')"
   ]
  },
  {
   "cell_type": "markdown",
   "metadata": {},
   "source": [
    "## Removing Missing Values"
   ]
  },
  {
   "cell_type": "code",
   "execution_count": null,
   "metadata": {},
   "outputs": [],
   "source": [
    "# Check for missing value in each column\n",
    "missing_values = df.isnull().sum()\n",
    "print(missing_values)\n",
    "# Drop rows with missing values\n",
    "df = df.dropna()"
   ]
  },
  {
   "cell_type": "markdown",
   "metadata": {},
   "source": [
    "## Removing False Entries\n",
    "\n",
    "- All entries before 2018 defined as false entries\n",
    "- All rows were due_date < receipt_date false entries\n",
    "- All rows were due-date = receipt_date excluded because no prediction is necessary on those invoices\n"
   ]
  },
  {
   "cell_type": "code",
   "execution_count": null,
   "metadata": {},
   "outputs": [],
   "source": [
    "# Remove all entries where weighted_payment_date <= receipt_date\n",
    "df = df[df['weighted_payment_date'] > df['receipt_date']]\n",
    "\n",
    "rows_before_removing = df.shape[0]\n",
    "len_before_removing = len(df)\n",
    "\n",
    "#Remove all  entries where Receipt_date < 01.01.2018\n",
    "df = df[df['receipt_date'] >= '2018-01-01']\n",
    "\n",
    "# Check what % of rows have due_date < receipt_date\n",
    "due_before_receipt = (df['due_date'] < df['receipt_date']).mean() * 100\n",
    "print(f\"Percentage of rows where due_date < receipt_date: {due_before_receipt:.2f}%\")\n",
    "\n",
    "# Check what % of rows have due_date == receipt_date\n",
    "due_equals_receipt = (df['due_date'] == df['receipt_date']).mean() * 100\n",
    "print(f\"Percentage of rows where due_date == receipt_date: {due_equals_receipt:.2f}%\")\n",
    "\n",
    "# Remove all entries where due_date <= receipt_date\n",
    "df = df[df['due_date'] > df['receipt_date']]\n",
    "\n",
    "# Check % of rows where payment_terms == 0\n",
    "payment_terms_zero = (df['payment_terms'] == 0).mean() * 100\n",
    "print(f\"Percentage of rows where payment_terms == 0: {payment_terms_zero:.2f}%\")\n",
    "\n",
    "# Sort the data by 'receipt_date' in ascending order\n",
    "df = df.sort_values('receipt_date')\n",
    "rows_after_removing = df.shape[0]\n",
    "print(f\"Number of rows before removing: {rows_before_removing}\")\n",
    "print(f\"Number of rows after removing: {rows_after_removing}\")\n",
    "print(f\"Percentage of rows after removing: {rows_after_removing/len_before_removing:.2f}%\")"
   ]
  },
  {
   "cell_type": "markdown",
   "metadata": {},
   "source": [
    "## Amount of A/Rs over time\n",
    "\n",
    "Plotting amount of entries over time to decide which timespan to include in dataset for ML Model. Graphs created for \"invoices\", \"reminders\" and \"clarifications\"\n",
    "\n",
    "Timespan: 01.01.2022 - 01.08.2024\n",
    "\n",
    "### Invoice Dataset:"
   ]
  },
  {
   "cell_type": "code",
   "execution_count": null,
   "metadata": {},
   "outputs": [],
   "source": [
    "# Convert 'receipt_date' and 'weighted_payment_date' to datetime format if they are not already\n",
    "df['receipt_date'] = pd.to_datetime(df['receipt_date'])\n",
    "df['weighted_payment_date'] = pd.to_datetime(df['weighted_payment_date'])\n",
    "df['due_date'] = pd.to_datetime(df['due_date'])\n",
    "\n",
    "# Create copies of the dataframe\n",
    "graph_receipt = df.copy()\n",
    "graph_payment = df.copy()\n",
    "\n",
    "# Set 'receipt_date' and 'weighted_payment_date' as the index\n",
    "graph_receipt.set_index('receipt_date', inplace=True)\n",
    "graph_payment.set_index('weighted_payment_date', inplace=True)\n",
    "\n",
    "# Resample the data to monthly frequency and count the number of rows for each month\n",
    "monthly_receipt_counts = graph_receipt.resample('ME').size().reset_index(name='receipt_count')\n",
    "monthly_payment_counts = graph_payment.resample('ME').size().reset_index(name='payment_count')\n",
    "\n",
    "# Merge the two DataFrames on the 'receipt_date' column\n",
    "monthly_counts = pd.merge(monthly_receipt_counts, monthly_payment_counts, left_on='receipt_date', right_on='weighted_payment_date', how='outer')\n",
    "\n",
    "# Plot the data using matplotlib\n",
    "fig, ax1 = plt.subplots(figsize=(10, 6))\n",
    "\n",
    "# Plot the receipt counts on the primary y-axis\n",
    "sns.lineplot(x='receipt_date', y='receipt_count', data=monthly_counts, marker='o', ax=ax1, color='blue', label='Receipt Count')\n",
    "ax1.set_xlabel('Date')\n",
    "ax1.set_ylabel('Number of A/R Entries (Receipt)', color='blue')\n",
    "ax1.tick_params(axis='y', labelcolor='blue')\n",
    "\n",
    "# Create a secondary y-axis for the payment counts\n",
    "ax2 = ax1.twinx()\n",
    "sns.lineplot(x='weighted_payment_date', y='payment_count', data=monthly_counts, marker='o', ax=ax2, color='red', label='Payment Count')\n",
    "ax2.set_ylabel('Number of A/R Entries (Payment)', color='red')\n",
    "ax2.tick_params(axis='y', labelcolor='red')\n",
    "\n",
    "\n",
    "# Disable the legend for the secondary y-axis\n",
    "ax1.get_legend().remove()\n",
    "\n",
    "# Combine legends\n",
    "lines, labels = ax1.get_legend_handles_labels()\n",
    "lines2, labels2 = ax2.get_legend_handles_labels()\n",
    "ax2.legend(lines + lines2, labels + labels2, loc='upper left')\n",
    "\n",
    "# Set the title and show the plot\n",
    "plt.title('Monthly Count of A/R Entries by Receipt Date and Payment Date')\n",
    "fig.tight_layout()\n",
    "plt.grid(True)\n",
    "plt.show()"
   ]
  },
  {
   "cell_type": "code",
   "execution_count": 23,
   "metadata": {},
   "outputs": [],
   "source": [
    "# Remove all enntries before receipt_date 01.01.2022\n",
    "df = df[(df['receipt_date'] >= '2022-01-01') & (df['receipt_date'] <= '2024-05-01')]"
   ]
  },
  {
   "cell_type": "markdown",
   "metadata": {},
   "source": [
    "### Reminders Dataset:\n",
    "\n",
    "Only after 2022 reminders consistent"
   ]
  },
  {
   "cell_type": "code",
   "execution_count": null,
   "metadata": {},
   "outputs": [],
   "source": [
    "df_reminders = pd.read_csv('reminders_df.csv')"
   ]
  },
  {
   "cell_type": "code",
   "execution_count": null,
   "metadata": {},
   "outputs": [],
   "source": [
    "df_reminders['reminder_date'] = pd.to_datetime(df_reminders['reminder_date'])\n",
    "\n",
    "#remove reminder date before 2021\n",
    "df_reminders = df_reminders[df_reminders['reminder_date'] >= '2021-01-01']\n",
    "\n",
    "# Create copies of the dataframe\n",
    "graph_reminders = df_reminders.copy()\n",
    "\n",
    "graph_reminders.set_index('reminder_date', inplace=True)\n",
    "\n",
    "\n",
    "# Resample the data to monthly frequency and count the number of rows for each month\n",
    "monthly_reminder_counts = graph_reminders.resample('ME').size().reset_index(name='reminder_count')\n",
    "\n",
    "# Plot the data using matplotlib\n",
    "fig, ax1 = plt.subplots(figsize=(10, 6))\n",
    "\n",
    "# Plot the receipt counts on the primary y-axis\n",
    "sns.lineplot(x='reminder_date', y='reminder_count', data=monthly_reminder_counts, marker='o', ax=ax1, color='blue', label='Receipt Count')\n",
    "ax1.set_xlabel('Date')\n",
    "ax1.set_ylabel('Number of Reminders', color='blue')\n",
    "ax1.tick_params(axis='y', labelcolor='blue')\n",
    "\n",
    "# Combine legends\n",
    "lines, labels = ax1.get_legend_handles_labels()\n",
    "\n",
    "# Set the title and show the plot\n",
    "plt.title('Monthly Count of Reminders')\n",
    "fig.tight_layout()\n",
    "plt.grid(True)\n",
    "plt.show()\n",
    "\n",
    "print(\"Total Reminders count: \", len(df_reminders))"
   ]
  },
  {
   "cell_type": "markdown",
   "metadata": {},
   "source": [
    "### Clarifications Dataset"
   ]
  },
  {
   "cell_type": "code",
   "execution_count": null,
   "metadata": {},
   "outputs": [],
   "source": [
    "df_clarifications = pd.read_csv('clarifications.csv')"
   ]
  },
  {
   "cell_type": "code",
   "execution_count": null,
   "metadata": {},
   "outputs": [],
   "source": [
    "\n",
    "df_clarifications['created_at'] = pd.to_datetime(df_clarifications['created_at'])\n",
    "\n",
    "# Remove created_at dates before 2021\n",
    "df_clarifications = df_clarifications[df_clarifications['created_at'] >= '2021-01-01']\n",
    "\n",
    "# Create copies of the dataframe\n",
    "graph_clarifications = df_clarifications.copy()\n",
    "\n",
    "graph_clarifications.set_index('created_at', inplace=True)\n",
    "\n",
    "# Resample the data to monthly frequency and count the number of rows for each month\n",
    "monthly_clarification_counts = graph_clarifications.resample('ME').size().reset_index(name='clarification_count')\n",
    "\n",
    "# Plot the data using matplotlib\n",
    "fig, ax1 = plt.subplots(figsize=(10, 6))\n",
    "\n",
    "# Plot the clarification counts on the primary y-axis\n",
    "sns.lineplot(x='created_at', y='clarification_count', data=monthly_clarification_counts, marker='o', ax=ax1, color='red', label='Clarification Count')\n",
    "ax1.set_xlabel('Date')\n",
    "ax1.set_ylabel('Number of Clarifications', color='red')\n",
    "ax1.tick_params(axis='y', labelcolor='red')\n",
    "\n",
    "# Combine legends\n",
    "lines, labels = ax1.get_legend_handles_labels()\n",
    "\n",
    "# Set the title and show the plot\n",
    "plt.title('Monthly Count of Clarifications')\n",
    "fig.tight_layout()\n",
    "plt.grid(True)\n",
    "plt.show()\n",
    "\n",
    "print(\"Total clafirication count: \", len(df_clarifications))"
   ]
  },
  {
   "cell_type": "markdown",
   "metadata": {},
   "source": [
    "## \"Amount\" Column & \"Amount Euro column\n",
    "\n",
    "The amount column is heavily skewed.\n",
    "\n",
    "1. log.transform \n",
    "2. \"Amount\" < 1 is dropped\n",
    "3. Remove 99th percentile"
   ]
  },
  {
   "cell_type": "markdown",
   "metadata": {},
   "source": [
    "### \"amount_euro\": "
   ]
  },
  {
   "cell_type": "code",
   "execution_count": null,
   "metadata": {},
   "outputs": [],
   "source": [
    "# Check distribution of amount columns\n",
    "print(\"Distribution before cleaning\")\n",
    "print(df['amount_euro'].describe().round(2))\n",
    "\n",
    "# Drop all \"amount\" that are less than 1\n",
    "df = df[df['amount_euro'] >= 1]\n",
    "\n",
    "\n",
    "# Skewness of amount:\n",
    "mean_amount = df['amount_euro'].mean()\n",
    "median_amount = df['amount_euro'].median()\n",
    "sd_amount = df['amount_euro'].std()\n",
    "\n",
    "skew_amount = 3 * (mean_amount - median_amount) / sd_amount\n",
    "\n",
    "print(\"-------------------\")\n",
    "print(\"Distribution after cleaning\")\n",
    "print(df['amount_euro'].describe().round(2))\n",
    "print(\"-------------------\")\n",
    "print(\"Skewness of 'amount' column:\", skew_amount)\n",
    "\n",
    "\n",
    "# Log transform the 'amount' column\n",
    "df['log_amount_eur'] = np.log(df['amount_euro'])\n",
    "\n",
    "# Create a figure with two subplots\n",
    "fig, axes = plt.subplots(1, 2, figsize=(20, 6))\n",
    "\n",
    "# Plot the histogram of the \"amount\" column on the first subplot\n",
    "sns.histplot(df['amount_euro'], bins=500, kde=False, ax=axes[0])\n",
    "axes[0].set_xlabel('Amount Euro')\n",
    "axes[0].set_ylabel('Frequency')\n",
    "axes[0].set_title('Histogram of Amount in Euros')\n",
    "axes[0].grid(True)\n",
    "\n",
    "# Plot the histogram of the log-transformed \"amount\" column on the second subplot\n",
    "sns.histplot(df['log_amount_eur'], bins=150, kde=False, ax=axes[1])\n",
    "axes[1].set_xlabel('Log Amount Euro')\n",
    "axes[1].set_ylabel('Frequency')\n",
    "axes[1].set_title('Histogram of Log Amount in Euros')\n",
    "axes[1].grid(True)\n",
    "\n",
    "# Adjust layout and show the plot\n",
    "plt.tight_layout()\n",
    "plt.show()"
   ]
  },
  {
   "cell_type": "code",
   "execution_count": null,
   "metadata": {},
   "outputs": [],
   "source": [
    "## Normal probability plot for log_transfromed amount column\n",
    "\n",
    "import statsmodels.api as sm\n",
    "\n",
    "# Extract the log-transformed 'amount' column\n",
    "log_amount_eur = df['log_amount_eur']\n",
    "\n",
    "#normalize\n",
    "log_amount_eur = (log_amount_eur - log_amount_eur.mean()) / log_amount_eur.std()\n",
    "\n",
    "# Normal probability plot\n",
    "sm.qqplot(log_amount_eur, line='45')\n",
    "plt.title('Normal Probability Plot for log_amount_eur')\n",
    "plt.xlabel('Theoretical Quantiles')\n",
    "plt.ylabel('Sample Quantiles')\n",
    "plt.grid(True)\n",
    "plt.show()"
   ]
  },
  {
   "cell_type": "markdown",
   "metadata": {},
   "source": [
    "## \"Payment_terms_column\"\n",
    "\n",
    "Payment terms can be treated as a continuous feature, because although it is a discrete variable, it has sufficient cardinality.\n",
    "\n",
    "\n",
    "Remove all payment terms >120 for consistency with DSO column"
   ]
  },
  {
   "cell_type": "code",
   "execution_count": null,
   "metadata": {},
   "outputs": [],
   "source": [
    "#Print payment terms before removing outliers\n",
    "print(df[\"payment_terms\"].describe())\n",
    "\n",
    "#number of unique payment terms\n",
    "n_unique_payment_terms = df[\"payment_terms\"].nunique()\n",
    "\n",
    "df_payment_terms = df[df[\"payment_terms\"] <= 120]\n",
    "n_unique_payment_terms_2 = df_payment_terms[\"payment_terms\"].nunique()\n",
    "\n",
    "# Create a figure with two subplots\n",
    "fig, axes = plt.subplots(1, 2, figsize=(20, 6))\n",
    "\n",
    "sns.histplot(df['payment_terms'], bins=n_unique_payment_terms, kde=False, ax=axes[0])\n",
    "axes[0].set_xlabel('Payment_terms')\n",
    "axes[0].set_ylabel('Frequency')\n",
    "axes[0].set_title('Histogram of Payment_Terms')\n",
    "axes[0].grid(True)\n",
    "\n",
    "sns.histplot(df_payment_terms['payment_terms'], bins=n_unique_payment_terms_2, kde=False, ax=axes[1])\n",
    "axes[1].set_xlabel('payment_terms')\n",
    "axes[1].set_ylabel('Frequency')\n",
    "axes[1].set_title('Histogram of Payment_Terms <= 120')\n",
    "axes[1].grid(True)\n",
    "\n",
    "\n",
    "df = df[df[\"payment_terms\"] <= 120]\n",
    "\n",
    "#print payment term after removing outliers\n",
    "print(df[\"payment_terms\"].describe())"
   ]
  },
  {
   "cell_type": "markdown",
   "metadata": {},
   "source": [
    "## Creation of dso\n",
    "\n",
    "\"dso\" = weighted_payment_date - receipt_date\n",
    "\n",
    "\"dso\" is our independent variable, the variable we want to predict\n"
   ]
  },
  {
   "cell_type": "code",
   "execution_count": null,
   "metadata": {},
   "outputs": [],
   "source": [
    "# New variable \"dso\"\n",
    "df['dso'] = (df['weighted_payment_date'] - df['receipt_date']).dt.days\n",
    "\n",
    "df.dtypes"
   ]
  },
  {
   "cell_type": "markdown",
   "metadata": {},
   "source": [
    "## Cleaning af dso\n",
    "\n",
    "- Remove Entries with DSO >120, since defined as outliers\n",
    "- Plot with and without outliers"
   ]
  },
  {
   "cell_type": "code",
   "execution_count": null,
   "metadata": {},
   "outputs": [],
   "source": [
    "# Create a figure with two subplots\n",
    "fig, axes = plt.subplots(1, 2, figsize=(20, 6))\n",
    "\n",
    "# Plot the histogram of the \"dso\" column on the first subplot\n",
    "sns.histplot(df['dso'], bins=100, kde=False, ax=axes[0])\n",
    "axes[0].set_xlabel('DSO', fontsize=18)\n",
    "axes[0].set_ylabel('Frequency', fontsize=18)\n",
    "axes[0].set_title('Histogram of DSO', fontsize=20)\n",
    "axes[0].tick_params(axis='both', which='major', labelsize=14)\n",
    "axes[0].grid(True)\n",
    "\n",
    "# Calculate mean and median\n",
    "mean_dso = df['dso'].mean()\n",
    "median_dso = df['dso'].median()\n",
    "\n",
    "# Add vertical lines for mean and median\n",
    "axes[0].axvline(mean_dso, color='r', linestyle='--', linewidth=2, label=f'Mean: {mean_dso:.2f}')\n",
    "axes[0].axvline(median_dso, color='g', linestyle='-', linewidth=2, label=f'Median: {median_dso:.2f}')\n",
    "axes[0].legend(fontsize=14)\n",
    "\n",
    "# Check distribution of dso columns\n",
    "summary_statistics = df['dso'].describe().round(2)\n",
    "print(\"Summary statistics before removing outliers:\")\n",
    "print(\" \")\n",
    "print(summary_statistics)\n",
    "print(\"---------------------------------------------\")\n",
    "print(\" \")\n",
    "print(\"Summary Statistics after removing outliers:\")\n",
    "(\" \")\n",
    "\n",
    "# Remove outliers\n",
    "df = df[df[\"dso\"] <= 120]\n",
    "\n",
    "# Plot the histogram of the \"dso\" column without outliers on the second subplot\n",
    "sns.histplot(df['dso'], bins=100, kde=True, ax=axes[1])\n",
    "axes[1].set_xlabel('DSO', fontsize=18)\n",
    "axes[1].set_ylabel('Frequency', fontsize=18)\n",
    "axes[1].set_title('Histogram of DSO without Outliers', fontsize=20)\n",
    "axes[1].tick_params(axis='both', which='major', labelsize=14)\n",
    "axes[1].grid(True)\n",
    "\n",
    "# Calculate mean and median without outliers\n",
    "mean_dso_no_outliers = df['dso'].mean()\n",
    "median_dso_no_outliers = df['dso'].median()\n",
    "\n",
    "# Add vertical lines for mean and median without outliers\n",
    "axes[1].axvline(mean_dso_no_outliers, color='r', linestyle='--', linewidth=2, label=f'Mean: {mean_dso_no_outliers:.2f}')\n",
    "axes[1].axvline(median_dso_no_outliers, color='g', linestyle='-', linewidth=2, label=f'Median: {median_dso_no_outliers:.2f}')\n",
    "axes[1].legend(fontsize=14)\n",
    "\n",
    "# Check distribution of dso columns\n",
    "summary_statistics = df['dso'].describe().round(2)\n",
    "print(summary_statistics)\n",
    "\n",
    "plt.tight_layout()\n",
    "plt.show()"
   ]
  },
  {
   "cell_type": "markdown",
   "metadata": {},
   "source": [
    "Plot monthly DSO as time series"
   ]
  },
  {
   "cell_type": "code",
   "execution_count": null,
   "metadata": {},
   "outputs": [],
   "source": [
    "# Group by month and calculate the average DSO for each month\n",
    "df['month'] = df['receipt_date'].dt.to_period('M')\n",
    "monthly_avg_dso = df.groupby('month')['dso'].mean().reset_index()\n",
    "\n",
    "# Convert 'month' back to datetime for plotting\n",
    "monthly_avg_dso['month'] = monthly_avg_dso['month'].dt.to_timestamp()\n",
    "\n",
    "# Plot the time series graph\n",
    "plt.figure(figsize=(10, 6))\n",
    "plt.plot(monthly_avg_dso['month'], monthly_avg_dso['dso'], marker='o', linestyle='-')\n",
    "plt.title('Average Monthly DSO over Time')\n",
    "plt.xlabel('Month')\n",
    "plt.ylabel('Average DSO (Days)')\n",
    "plt.grid(True)\n",
    "plt.xticks(rotation=45)\n",
    "\n",
    "# Annotate each point with the month\n",
    "for i, row in monthly_avg_dso.iterrows():\n",
    "    plt.annotate(row['month'].strftime('%m'), (row['month'], row['dso']), textcoords=\"offset points\", xytext=(0,10), ha='center', rotation=45)\n",
    "\n",
    "plt.tight_layout()\n",
    "plt.show()"
   ]
  },
  {
   "cell_type": "markdown",
   "metadata": {},
   "source": [
    "## Creation of dbt"
   ]
  },
  {
   "cell_type": "code",
   "execution_count": null,
   "metadata": {},
   "outputs": [],
   "source": [
    "df['dbt'] = (df['weighted_payment_date'] - df['due_date']).dt.days\n",
    "\n",
    "# Create a figure with two subplots\n",
    "fig, axes = plt.subplots(1, 2, figsize=(20, 6))\n",
    "\n",
    "# Plot the histogram of the \"amount\" column on the first subplot\n",
    "sns.histplot(df['dbt'], bins=150, kde=False, ax=axes[0])\n",
    "axes[0].set_xlabel('dbt')\n",
    "axes[0].set_ylabel('Frequency')\n",
    "axes[0].set_title('Histogram of dbt')\n",
    "axes[0].grid(True)\n",
    "\n",
    "# Check distribution of dso columns\n",
    "summary_statistics = df['dbt'].describe().round(2)\n",
    "print(\"Summary statistics before removing outliers:\")\n",
    "print(\" \")\n",
    "print(summary_statistics)\n",
    "print(\"---------------------------------------------\")\n",
    "print(\" \")\n",
    "print(\"Summary Statistics after removing outliers:\")\n",
    "(\" \")\n",
    "\n",
    "\n",
    "\n",
    "\n",
    "# Plot the histogram of the log-transformed \"amount\" column on the second subplot\n",
    "sns.histplot(df['dbt'], bins=120, kde=False, ax=axes[1])\n",
    "axes[1].set_xlabel('DBT')\n",
    "axes[1].set_ylabel('Frequency')\n",
    "axes[1].set_title('Histogram of DBT without Outliers')\n",
    "axes[1].grid(True)\n",
    "\n",
    "\n",
    "\n",
    "# Check distribution of dso columns\n",
    "summary_statistics = df['dbt'].describe().round(2)\n",
    "print(summary_statistics)"
   ]
  },
  {
   "cell_type": "markdown",
   "metadata": {},
   "source": [
    "## Plotting distribution of columns in raw dataset"
   ]
  },
  {
   "cell_type": "code",
   "execution_count": null,
   "metadata": {},
   "outputs": [],
   "source": [
    "# get list of columns\n",
    "columns = df.columns\n",
    "\n",
    "# Define the number of rows and columns of grid of subplots\n",
    "nrows = 5\n",
    "ncols = 3\n",
    "\n",
    "# Create subplots\n",
    "fig, axes = plt.subplots(nrows, ncols, figsize=(20, 18))\n",
    "\n",
    "# Flatten the axes array for easy iteration\n",
    "axes = axes.flatten()\n",
    "\n",
    "# Iterate over the columns and plot histograms\n",
    "for j in range(len(columns)):\n",
    "    column = columns[j]\n",
    "    sns.histplot(df[column], bins=100, kde=False, ax=axes[j])\n",
    "    axes[j].set_title(f'Histogram of {column}')\n",
    "    axes[j].set_xlabel(column)\n",
    "    axes[j].set_ylabel('Frequency')\n",
    "    axes[j].grid(True)\n",
    "\n",
    "# Hide any unused subplots\n",
    "for j in range(len(columns), len(axes)):\n",
    "    fig.delaxes(axes[j])\n",
    "\n",
    "# Display the plot\n",
    "plt.tight_layout()\n",
    "plt.show()"
   ]
  }
 ],
 "metadata": {
  "kernelspec": {
   "display_name": "Python 3",
   "language": "python",
   "name": "python3"
  },
  "language_info": {
   "codemirror_mode": {
    "name": "ipython",
    "version": 3
   },
   "file_extension": ".py",
   "mimetype": "text/x-python",
   "name": "python",
   "nbconvert_exporter": "python",
   "pygments_lexer": "ipython3",
   "version": "3.9.6"
  }
 },
 "nbformat": 4,
 "nbformat_minor": 2
}
