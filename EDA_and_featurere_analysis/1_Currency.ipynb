{
 "cells": [
  {
   "cell_type": "markdown",
   "metadata": {},
   "source": [
    "# Amount to Euro conversion\n",
    "\n",
    "Purpose of this notebook: To convert the \"amount\" column from local currencis to Euro. Since the amount column\n",
    "\n",
    "Data paths:\n",
    "- Input: Basic Df\n",
    "- Output: Overwrites Basic DF"
   ]
  },
  {
   "cell_type": "code",
   "execution_count": 14,
   "metadata": {},
   "outputs": [
    {
     "data": {
      "text/html": [
       "<div>\n",
       "<style scoped>\n",
       "    .dataframe tbody tr th:only-of-type {\n",
       "        vertical-align: middle;\n",
       "    }\n",
       "\n",
       "    .dataframe tbody tr th {\n",
       "        vertical-align: top;\n",
       "    }\n",
       "\n",
       "    .dataframe thead th {\n",
       "        text-align: right;\n",
       "    }\n",
       "</style>\n",
       "<table border=\"1\" class=\"dataframe\">\n",
       "  <thead>\n",
       "    <tr style=\"text-align: right;\">\n",
       "      <th></th>\n",
       "      <th>Currency</th>\n",
       "      <th>Rate</th>\n",
       "    </tr>\n",
       "  </thead>\n",
       "  <tbody>\n",
       "    <tr>\n",
       "      <th>0</th>\n",
       "      <td>AUD</td>\n",
       "      <td>1.6217</td>\n",
       "    </tr>\n",
       "    <tr>\n",
       "      <th>1</th>\n",
       "      <td>BGN</td>\n",
       "      <td>1.9558</td>\n",
       "    </tr>\n",
       "    <tr>\n",
       "      <th>2</th>\n",
       "      <td>BRL</td>\n",
       "      <td>6.0372</td>\n",
       "    </tr>\n",
       "    <tr>\n",
       "      <th>3</th>\n",
       "      <td>CAD</td>\n",
       "      <td>1.5025</td>\n",
       "    </tr>\n",
       "    <tr>\n",
       "      <th>4</th>\n",
       "      <td>CHF</td>\n",
       "      <td>0.9452</td>\n",
       "    </tr>\n",
       "  </tbody>\n",
       "</table>\n",
       "</div>"
      ],
      "text/plain": [
       "  Currency    Rate\n",
       "0      AUD  1.6217\n",
       "1      BGN  1.9558\n",
       "2      BRL  6.0372\n",
       "3      CAD  1.5025\n",
       "4      CHF  0.9452"
      ]
     },
     "execution_count": 14,
     "metadata": {},
     "output_type": "execute_result"
    }
   ],
   "source": [
    "import pandas as pd\n",
    "import requests\n",
    "\n",
    "# URL of the API\n",
    "url = 'https://api.frankfurter.app/2024-09-26'\n",
    "\n",
    "# Fetch the data from the API using requests\n",
    "response = requests.get(url)\n",
    "data = response.json()\n",
    "exchange_rates = pd.DataFrame(list(data['rates'].items()), columns=['Currency', 'Rate']) # convert data innto pandas dataframe\n",
    "exchange_rates.head()"
   ]
  },
  {
   "cell_type": "markdown",
   "metadata": {},
   "source": [
    "## Note:\n",
    "\n",
    "The Frankfurter API provides rate EUR - Currency:\n",
    "Example: CHF; Rate: 0.9452 --> 1 Euro = 0.9452 CHF\n",
    "\n",
    "Source for other conversions: https://www.xe.com/currencyconverter/\n"
   ]
  },
  {
   "cell_type": "code",
   "execution_count": 15,
   "metadata": {},
   "outputs": [
    {
     "name": "stdout",
     "output_type": "stream",
     "text": [
      "EUR\n",
      "RSD\n"
     ]
    }
   ],
   "source": [
    "#load data\n",
    "df = pd.read_csv('data/invoices_basic.csv')\n",
    "\n",
    "unique_currency = df['currency'].unique()\n",
    "\n",
    "# Check if all unique_currencies are in exchange rates and print the ones that are not\n",
    "for currency in unique_currency:\n",
    "    if currency not in exchange_rates['Currency'].unique():\n",
    "        print(currency)"
   ]
  },
  {
   "cell_type": "markdown",
   "metadata": {},
   "source": [
    "In the cell above we found that there is not exchange rate for the Vietnamese Dong and the Serbian Dinar provided by the \"Frankfurther API\". The remaining exchange rates were taken from yahoo finance"
   ]
  },
  {
   "cell_type": "code",
   "execution_count": 16,
   "metadata": {},
   "outputs": [],
   "source": [
    "#RSD = Serbian Dinar: take exchange rate from EUR to RSD on 2024-09-26\n",
    "EUR_to_RSD = 117.0955\n",
    "\n",
    "# VND = Vietnamese Dong: take exchange rate from EUR to VND on 2024-09-26\n",
    "EUR_to_VND = 27413.172\n",
    "\n",
    "# Create a DataFrame with the new entries\n",
    "new_entries = pd.DataFrame([\n",
    "    {'Currency': 'RSD', 'Rate': EUR_to_RSD},\n",
    "    {'Currency': 'VND', 'Rate': EUR_to_VND},\n",
    "    {'Currency': 'EUR', 'Rate': 1}\n",
    "])\n",
    "\n",
    "# Concatenate the new entries with the existing DataFrame\n",
    "exchange_rates = pd.concat([exchange_rates, new_entries], ignore_index=True)\n",
    "\n",
    "# Check if all unique_currencies are in exchange rates\n",
    "for currency in unique_currency:\n",
    "    if currency not in exchange_rates['Currency'].unique():\n",
    "        print(currency)"
   ]
  },
  {
   "cell_type": "markdown",
   "metadata": {},
   "source": [
    "## Creating new column: \"amount\" Euro"
   ]
  },
  {
   "cell_type": "code",
   "execution_count": 17,
   "metadata": {},
   "outputs": [
    {
     "data": {
      "text/html": [
       "<div>\n",
       "<style scoped>\n",
       "    .dataframe tbody tr th:only-of-type {\n",
       "        vertical-align: middle;\n",
       "    }\n",
       "\n",
       "    .dataframe tbody tr th {\n",
       "        vertical-align: top;\n",
       "    }\n",
       "\n",
       "    .dataframe thead th {\n",
       "        text-align: right;\n",
       "    }\n",
       "</style>\n",
       "<table border=\"1\" class=\"dataframe\">\n",
       "  <thead>\n",
       "    <tr style=\"text-align: right;\">\n",
       "      <th></th>\n",
       "      <th>amount</th>\n",
       "      <th>currency</th>\n",
       "      <th>payment_term</th>\n",
       "      <th>customer_id</th>\n",
       "      <th>receipt_date</th>\n",
       "      <th>due_date</th>\n",
       "      <th>weighted_payment_date</th>\n",
       "      <th>Currency</th>\n",
       "      <th>Rate</th>\n",
       "      <th>amount_euro</th>\n",
       "    </tr>\n",
       "  </thead>\n",
       "  <tbody>\n",
       "    <tr>\n",
       "      <th>0</th>\n",
       "      <td>1000</td>\n",
       "      <td>USD</td>\n",
       "      <td>60</td>\n",
       "      <td>abc123</td>\n",
       "      <td>2023-01-01</td>\n",
       "      <td>2023-03-02</td>\n",
       "      <td>2023-03-20</td>\n",
       "      <td>USD</td>\n",
       "      <td>1.11550</td>\n",
       "      <td>896.458987</td>\n",
       "    </tr>\n",
       "    <tr>\n",
       "      <th>1</th>\n",
       "      <td>1500</td>\n",
       "      <td>EUR</td>\n",
       "      <td>15</td>\n",
       "      <td>acb345</td>\n",
       "      <td>2023-01-01</td>\n",
       "      <td>2023-01-16</td>\n",
       "      <td>2023-01-25</td>\n",
       "      <td>EUR</td>\n",
       "      <td>1.00000</td>\n",
       "      <td>1500.000000</td>\n",
       "    </tr>\n",
       "    <tr>\n",
       "      <th>2</th>\n",
       "      <td>2000</td>\n",
       "      <td>GBP</td>\n",
       "      <td>30</td>\n",
       "      <td>xyz678</td>\n",
       "      <td>2023-01-01</td>\n",
       "      <td>2023-01-31</td>\n",
       "      <td>2023-01-25</td>\n",
       "      <td>GBP</td>\n",
       "      <td>0.83428</td>\n",
       "      <td>2397.276694</td>\n",
       "    </tr>\n",
       "    <tr>\n",
       "      <th>3</th>\n",
       "      <td>2500</td>\n",
       "      <td>RSD</td>\n",
       "      <td>30</td>\n",
       "      <td>abc987</td>\n",
       "      <td>2023-01-01</td>\n",
       "      <td>2023-01-01</td>\n",
       "      <td>2023-01-01</td>\n",
       "      <td>RSD</td>\n",
       "      <td>117.09550</td>\n",
       "      <td>21.350095</td>\n",
       "    </tr>\n",
       "  </tbody>\n",
       "</table>\n",
       "</div>"
      ],
      "text/plain": [
       "   amount currency  payment_term customer_id receipt_date    due_date  \\\n",
       "0    1000      USD            60      abc123   2023-01-01  2023-03-02   \n",
       "1    1500      EUR            15      acb345   2023-01-01  2023-01-16   \n",
       "2    2000      GBP            30      xyz678   2023-01-01  2023-01-31   \n",
       "3    2500      RSD            30      abc987   2023-01-01  2023-01-01   \n",
       "\n",
       "  weighted_payment_date Currency       Rate  amount_euro  \n",
       "0            2023-03-20      USD    1.11550   896.458987  \n",
       "1            2023-01-25      EUR    1.00000  1500.000000  \n",
       "2            2023-01-25      GBP    0.83428  2397.276694  \n",
       "3            2023-01-01      RSD  117.09550    21.350095  "
      ]
     },
     "execution_count": 17,
     "metadata": {},
     "output_type": "execute_result"
    }
   ],
   "source": [
    "# Merge df with exchange_rates on the currency column\n",
    "df = df.merge(exchange_rates, left_on='currency', right_on='Currency', how='left')\n",
    "\n",
    "# Calculate the amount in euros\n",
    "df['amount_euro'] = df['amount'] / df['Rate']\n",
    "\n",
    "df"
   ]
  },
  {
   "cell_type": "markdown",
   "metadata": {},
   "source": [
    "## Compare distributions\n",
    "\n"
   ]
  },
  {
   "cell_type": "code",
   "execution_count": 18,
   "metadata": {},
   "outputs": [
    {
     "name": "stdout",
     "output_type": "stream",
     "text": [
      "count       4.000000\n",
      "mean     1750.000000\n",
      "std       645.497224\n",
      "min      1000.000000\n",
      "25%      1375.000000\n",
      "50%      1750.000000\n",
      "75%      2125.000000\n",
      "max      2500.000000\n",
      "Name: amount, dtype: float64\n",
      "----------------\n",
      "count       4.000000\n",
      "mean     1203.771444\n",
      "std      1000.794240\n",
      "min        21.350095\n",
      "25%       677.681764\n",
      "50%      1198.229494\n",
      "75%      1724.319173\n",
      "max      2397.276694\n",
      "Name: amount_euro, dtype: float64\n"
     ]
    }
   ],
   "source": [
    "print(df['amount'].describe())\n",
    "print(\"----------------\")\n",
    "print(df['amount_euro'].describe())"
   ]
  },
  {
   "cell_type": "code",
   "execution_count": 19,
   "metadata": {},
   "outputs": [],
   "source": [
    "# save df\n",
    "df.to_csv(\"data/invoices_basic.csv\", index=False)"
   ]
  }
 ],
 "metadata": {
  "kernelspec": {
   "display_name": "Python 3",
   "language": "python",
   "name": "python3"
  },
  "language_info": {
   "codemirror_mode": {
    "name": "ipython",
    "version": 3
   },
   "file_extension": ".py",
   "mimetype": "text/x-python",
   "name": "python",
   "nbconvert_exporter": "python",
   "pygments_lexer": "ipython3",
   "version": "3.9.6"
  }
 },
 "nbformat": 4,
 "nbformat_minor": 2
}
