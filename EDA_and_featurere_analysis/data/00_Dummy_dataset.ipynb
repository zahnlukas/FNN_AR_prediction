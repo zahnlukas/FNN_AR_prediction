{
 "cells": [
  {
   "cell_type": "markdown",
   "metadata": {},
   "source": [
    "# Dummy dataset\n",
    "\n",
    "The purpose of this dataset is to create a dummy dataset to run the code"
   ]
  },
  {
   "cell_type": "code",
   "execution_count": 16,
   "metadata": {},
   "outputs": [
    {
     "data": {
      "text/html": [
       "<div>\n",
       "<style scoped>\n",
       "    .dataframe tbody tr th:only-of-type {\n",
       "        vertical-align: middle;\n",
       "    }\n",
       "\n",
       "    .dataframe tbody tr th {\n",
       "        vertical-align: top;\n",
       "    }\n",
       "\n",
       "    .dataframe thead th {\n",
       "        text-align: right;\n",
       "    }\n",
       "</style>\n",
       "<table border=\"1\" class=\"dataframe\">\n",
       "  <thead>\n",
       "    <tr style=\"text-align: right;\">\n",
       "      <th></th>\n",
       "      <th>amount</th>\n",
       "      <th>currency</th>\n",
       "      <th>payment_term</th>\n",
       "      <th>customer_id</th>\n",
       "      <th>receipt_date</th>\n",
       "      <th>due_date</th>\n",
       "      <th>weighted_payment_date</th>\n",
       "    </tr>\n",
       "  </thead>\n",
       "  <tbody>\n",
       "    <tr>\n",
       "      <th>0</th>\n",
       "      <td>1000</td>\n",
       "      <td>USD</td>\n",
       "      <td>60</td>\n",
       "      <td>abc123</td>\n",
       "      <td>2023-01-01</td>\n",
       "      <td>2023-03-02</td>\n",
       "      <td>2023-03-20</td>\n",
       "    </tr>\n",
       "    <tr>\n",
       "      <th>1</th>\n",
       "      <td>1500</td>\n",
       "      <td>EUR</td>\n",
       "      <td>15</td>\n",
       "      <td>acb345</td>\n",
       "      <td>2023-01-01</td>\n",
       "      <td>2023-01-16</td>\n",
       "      <td>2023-01-25</td>\n",
       "    </tr>\n",
       "    <tr>\n",
       "      <th>2</th>\n",
       "      <td>2000</td>\n",
       "      <td>GBP</td>\n",
       "      <td>30</td>\n",
       "      <td>xyz678</td>\n",
       "      <td>2023-01-01</td>\n",
       "      <td>2023-01-31</td>\n",
       "      <td>2023-01-25</td>\n",
       "    </tr>\n",
       "    <tr>\n",
       "      <th>3</th>\n",
       "      <td>2500</td>\n",
       "      <td>RSD</td>\n",
       "      <td>30</td>\n",
       "      <td>abc987</td>\n",
       "      <td>2023-01-01</td>\n",
       "      <td>2023-01-01</td>\n",
       "      <td>2023-01-01</td>\n",
       "    </tr>\n",
       "  </tbody>\n",
       "</table>\n",
       "</div>"
      ],
      "text/plain": [
       "   amount currency  payment_term customer_id receipt_date   due_date  \\\n",
       "0    1000      USD            60      abc123   2023-01-01 2023-03-02   \n",
       "1    1500      EUR            15      acb345   2023-01-01 2023-01-16   \n",
       "2    2000      GBP            30      xyz678   2023-01-01 2023-01-31   \n",
       "3    2500      RSD            30      abc987   2023-01-01 2023-01-01   \n",
       "\n",
       "  weighted_payment_date  \n",
       "0            2023-03-20  \n",
       "1            2023-01-25  \n",
       "2            2023-01-25  \n",
       "3            2023-01-01  "
      ]
     },
     "execution_count": 16,
     "metadata": {},
     "output_type": "execute_result"
    }
   ],
   "source": [
    "import pandas as pd\n",
    "from datetime import datetime\n",
    "\n",
    "# Create a DataFrame with the specified columns\n",
    "data = {\n",
    "    \"amount\": [1000, 1500, 2000, 2500],\n",
    "    \"currency\": [\"USD\", \"EUR\", \"GBP\", \"RSD\"],\n",
    "    \"payment_term\": [60, 15, 30, 30],\n",
    "    \"customer_id\": [\"abc123\", \"acb345\", \"xyz678\", \"abc987\"],\n",
    "    \"receipt_date\": [datetime(2023, 1, 1), datetime(2023, 1, 1), datetime(2023, 1, 1), datetime(2023, 1, 1)],\n",
    "    \"due_date\": [datetime(2023, 3, 2), datetime(2023, 1, 16), datetime(2023, 1, 31), datetime(2023, 1, 1)],\n",
    "    \"weighted_payment_date\": [datetime(2023, 3, 20), datetime(2023, 1, 25), datetime(2023, 1, 25), datetime(2023, 1, 1)]\n",
    "}\n",
    "\n",
    "df = pd.DataFrame(data)\n",
    "\n",
    "df"
   ]
  },
  {
   "cell_type": "code",
   "execution_count": 19,
   "metadata": {},
   "outputs": [],
   "source": [
    "# save the DataFrame to a CSV file\n",
    "df.to_csv(\"invoices.csv\", index=False)"
   ]
  },
  {
   "cell_type": "code",
   "execution_count": 12,
   "metadata": {},
   "outputs": [
    {
     "data": {
      "text/html": [
       "<div>\n",
       "<style scoped>\n",
       "    .dataframe tbody tr th:only-of-type {\n",
       "        vertical-align: middle;\n",
       "    }\n",
       "\n",
       "    .dataframe tbody tr th {\n",
       "        vertical-align: top;\n",
       "    }\n",
       "\n",
       "    .dataframe thead th {\n",
       "        text-align: right;\n",
       "    }\n",
       "</style>\n",
       "<table border=\"1\" class=\"dataframe\">\n",
       "  <thead>\n",
       "    <tr style=\"text-align: right;\">\n",
       "      <th></th>\n",
       "      <th>customer_id</th>\n",
       "      <th>isocode</th>\n",
       "    </tr>\n",
       "  </thead>\n",
       "  <tbody>\n",
       "    <tr>\n",
       "      <th>0</th>\n",
       "      <td>abc123</td>\n",
       "      <td>US</td>\n",
       "    </tr>\n",
       "    <tr>\n",
       "      <th>1</th>\n",
       "      <td>acb345</td>\n",
       "      <td>DE</td>\n",
       "    </tr>\n",
       "    <tr>\n",
       "      <th>2</th>\n",
       "      <td>xyz678</td>\n",
       "      <td>GB</td>\n",
       "    </tr>\n",
       "    <tr>\n",
       "      <th>3</th>\n",
       "      <td>abc987</td>\n",
       "      <td>RS</td>\n",
       "    </tr>\n",
       "  </tbody>\n",
       "</table>\n",
       "</div>"
      ],
      "text/plain": [
       "  customer_id isocode\n",
       "0      abc123      US\n",
       "1      acb345      DE\n",
       "2      xyz678      GB\n",
       "3      abc987      RS"
      ]
     },
     "execution_count": 12,
     "metadata": {},
     "output_type": "execute_result"
    }
   ],
   "source": [
    "# Country data:\n",
    "data_country = {\n",
    "    \"customer_id\": [\"abc123\", \"acb345\", \"xyz678\", \"abc987\"],\n",
    "    \"isocode\": [\"US\", \"DE\", \"GB\", \"RS\"]\n",
    "}\n",
    "\n",
    "df_country = pd.DataFrame(data_country)\n",
    "df_country"
   ]
  },
  {
   "cell_type": "code",
   "execution_count": 13,
   "metadata": {},
   "outputs": [],
   "source": [
    "df_country.to_csv(\"countries.csv\", index=False)"
   ]
  }
 ],
 "metadata": {
  "kernelspec": {
   "display_name": "Python 3",
   "language": "python",
   "name": "python3"
  },
  "language_info": {
   "codemirror_mode": {
    "name": "ipython",
    "version": 3
   },
   "file_extension": ".py",
   "mimetype": "text/x-python",
   "name": "python",
   "nbconvert_exporter": "python",
   "pygments_lexer": "ipython3",
   "version": "3.9.6"
  }
 },
 "nbformat": 4,
 "nbformat_minor": 2
}
